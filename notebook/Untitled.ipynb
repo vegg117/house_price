{
 "cells": [
  {
   "cell_type": "code",
   "execution_count": 91,
   "metadata": {
    "collapsed": true
   },
   "outputs": [],
   "source": [
    "import numpy as np # linear algebra\n",
    "import pandas as pd"
   ]
  },
  {
   "cell_type": "code",
   "execution_count": 92,
   "metadata": {
    "collapsed": true
   },
   "outputs": [],
   "source": [
    "data=pd.read_csv('../../data/house_price/input/train.csv')"
   ]
  },
  {
   "cell_type": "code",
   "execution_count": 99,
   "metadata": {
    "collapsed": false,
    "scrolled": true
   },
   "outputs": [
    {
     "name": "stdout",
     "output_type": "stream",
     "text": [
      "<class 'pandas.core.frame.DataFrame'>\n",
      "RangeIndex: 1460 entries, 0 to 1459\n",
      "Data columns (total 5 columns):\n",
      "YearBuilt       1460 non-null object\n",
      "YearRemodAdd    1460 non-null object\n",
      "YrSold          1460 non-null object\n",
      "MoSold          1460 non-null object\n",
      "GarageYrBlt     1379 non-null float64\n",
      "dtypes: float64(1), object(4)\n",
      "memory usage: 57.1+ KB\n"
     ]
    }
   ],
   "source": [
    "numeric_features = ['YearBuilt', 'YearRemodAdd', 'YrSold', 'MoSold', 'GarageYrBlt']\n",
    "data[numeric_features].info()"
   ]
  },
  {
   "cell_type": "code",
   "execution_count": 94,
   "metadata": {
    "collapsed": false
   },
   "outputs": [
    {
     "name": "stdout",
     "output_type": "stream",
     "text": [
      "2009    338\n",
      "2007    329\n",
      "2006    314\n",
      "2008    304\n",
      "2010    175\n",
      "Name: YrSold, dtype: int64\n",
      "1872     1\n",
      "1875     1\n",
      "1880     4\n",
      "1882     1\n",
      "1885     2\n",
      "1890     2\n",
      "1892     2\n",
      "1893     1\n",
      "1898     1\n",
      "1900    10\n",
      "1904     1\n",
      "1905     1\n",
      "1906     1\n",
      "1908     2\n",
      "1910    17\n",
      "1911     1\n",
      "1912     3\n",
      "1913     1\n",
      "1914     7\n",
      "1915    10\n",
      "1916     8\n",
      "1917     1\n",
      "1918     7\n",
      "1919     3\n",
      "1920    30\n",
      "1921     6\n",
      "1922     8\n",
      "1923     7\n",
      "1924     7\n",
      "1925    16\n",
      "        ..\n",
      "1981     5\n",
      "1982     6\n",
      "1983     4\n",
      "1984     9\n",
      "1985     5\n",
      "1986     5\n",
      "1987     3\n",
      "1988    11\n",
      "1989     3\n",
      "1990    12\n",
      "1991     5\n",
      "1992    13\n",
      "1993    17\n",
      "1994    19\n",
      "1995    18\n",
      "1996    15\n",
      "1997    14\n",
      "1998    25\n",
      "1999    25\n",
      "2000    24\n",
      "2001    20\n",
      "2002    23\n",
      "2003    45\n",
      "2004    54\n",
      "2005    64\n",
      "2006    67\n",
      "2007    49\n",
      "2008    23\n",
      "2009    18\n",
      "2010     1\n",
      "Name: YearBuilt, dtype: int64\n",
      "Empty DataFrame\n",
      "Columns: [Id, MSSubClass, MSZoning, LotFrontage, LotArea, Street, Alley, LotShape, LandContour, Utilities, LotConfig, LandSlope, Neighborhood, Condition1, Condition2, BldgType, HouseStyle, OverallQual, OverallCond, YearBuilt, YearRemodAdd, RoofStyle, RoofMatl, Exterior1st, Exterior2nd, MasVnrType, MasVnrArea, ExterQual, ExterCond, Foundation, BsmtQual, BsmtCond, BsmtExposure, BsmtFinType1, BsmtFinSF1, BsmtFinType2, BsmtFinSF2, BsmtUnfSF, TotalBsmtSF, Heating, HeatingQC, CentralAir, Electrical, 1stFlrSF, 2ndFlrSF, LowQualFinSF, GrLivArea, BsmtFullBath, BsmtHalfBath, FullBath, HalfBath, BedroomAbvGr, KitchenAbvGr, KitchenQual, TotRmsAbvGrd, Functional, Fireplaces, FireplaceQu, GarageType, GarageYrBlt, GarageFinish, GarageCars, GarageArea, GarageQual, GarageCond, PavedDrive, WoodDeckSF, OpenPorchSF, EnclosedPorch, 3SsnPorch, ScreenPorch, PoolArea, PoolQC, Fence, MiscFeature, MiscVal, MoSold, YrSold, SaleType, SaleCondition, SalePrice]\n",
      "Index: []\n",
      "\n",
      "[0 rows x 81 columns]\n"
     ]
    },
    {
     "data": {
      "text/plain": [
       "0        5\n",
       "1       31\n",
       "2        7\n",
       "3       91\n",
       "4        8\n",
       "5       16\n",
       "6        3\n",
       "7       36\n",
       "8       77\n",
       "9       69\n",
       "10      43\n",
       "11       1\n",
       "12      46\n",
       "13       1\n",
       "14      48\n",
       "15      78\n",
       "16      40\n",
       "17      39\n",
       "18       4\n",
       "19      51\n",
       "20       1\n",
       "21      77\n",
       "22       6\n",
       "23      31\n",
       "24      42\n",
       "25       2\n",
       "26      59\n",
       "27       3\n",
       "28      49\n",
       "29      81\n",
       "        ..\n",
       "1430     1\n",
       "1431    33\n",
       "1432    80\n",
       "1433     8\n",
       "1434    29\n",
       "1435    46\n",
       "1436    36\n",
       "1437     0\n",
       "1438    53\n",
       "1439    28\n",
       "1440    86\n",
       "1441     4\n",
       "1442     1\n",
       "1443    93\n",
       "1444     3\n",
       "1445    41\n",
       "1446    48\n",
       "1447    12\n",
       "1448    97\n",
       "1449    36\n",
       "1450    35\n",
       "1451     1\n",
       "1452     1\n",
       "1453     0\n",
       "1454     5\n",
       "1455     8\n",
       "1456    32\n",
       "1457    69\n",
       "1458    60\n",
       "1459    43\n",
       "dtype: int64"
      ]
     },
     "execution_count": 94,
     "metadata": {},
     "output_type": "execute_result"
    }
   ],
   "source": [
    "Built_Sold_Gap = data['YrSold']-data['YearBuilt']\n",
    "print data['YrSold'].value_counts()\n",
    "print data['YearBuilt'].value_counts().sort_index()\n",
    "print data[data['YearBuilt'] == 0]\n",
    "Built_Sold_Gap"
   ]
  },
  {
   "cell_type": "code",
   "execution_count": 95,
   "metadata": {
    "collapsed": false
   },
   "outputs": [
    {
     "name": "stdout",
     "output_type": "stream",
     "text": [
      "0   -31.547945\n",
      "1    -5.547945\n",
      "2   -29.547945\n",
      "3    54.452055\n",
      "4   -28.547945\n",
      "dtype: float64\n",
      "0   -17.95\n",
      "1     8.05\n",
      "2   -16.95\n",
      "3    13.05\n",
      "4   -14.95\n",
      "dtype: float64\n",
      "0   -13.597945\n",
      "1   -13.597945\n",
      "2   -12.597945\n",
      "3    41.402055\n",
      "4   -13.597945\n",
      "dtype: float64\n"
     ]
    }
   ],
   "source": [
    "# ['YearBuilt', 'YearRemodAdd', 'YrSold', 'MoSold']\n",
    "\n",
    "Built_Sold_Gap = data['YrSold'] - data['YearBuilt']\n",
    "data['Built_Sold_Gap'] = Built_Sold_Gap\n",
    "\n",
    "Remod_Sold_Gap = data['YrSold'] - data['YearRemodAdd']\n",
    "data['Remod_Sold_Gap'] = Remod_Sold_Gap\n",
    "\n",
    "Built_Remod_Gap = data['YearRemodAdd'] - data['YearBuilt']\n",
    "data['Built_Remod_Gap'] = Built_Remod_Gap\n",
    "\n",
    "\n",
    "# 计算售卖年份与建造年份时间间隔的平均值，将间隔与平均值差作为特征\n",
    "mean_built_sold_gap = Built_Sold_Gap - Built_Sold_Gap.mean()\n",
    "data['mean_built_sold_gap'] = mean_built_sold_gap\n",
    "print mean_built_sold_gap.head()\n",
    "\n",
    "mean_remod_sold_gap = Remod_Sold_Gap - Remod_Sold_Gap.mean()\n",
    "data['mean_remod_sold_gap'] = mean_remod_sold_gap\n",
    "print mean_remod_sold_gap.head()\n",
    "\n",
    "mean_built_remod_gap = Built_Remod_Gap - Built_Remod_Gap.mean()\n",
    "data['mean_built_remod_gap'] = mean_built_remod_gap\n",
    "print mean_built_remod_gap.head()\n",
    "\n",
    "# 月份用季节表示，变为类别型\n",
    "mosold = data['MoSold']\n",
    "season = []\n",
    "for m in mosold:\n",
    "    if m == 0:\n",
    "        season.append(\"none\")\n",
    "    elif m <= 3:\n",
    "        season.append(\"spring\")\n",
    "    elif m <= 6:\n",
    "        season.append(\"summer\")\n",
    "    elif m <= 9:\n",
    "        season.append(\"autumn\")\n",
    "    else:\n",
    "        season.append(\"winter\")\n",
    "data['SeaSold'] = season\n",
    "\n",
    "data['MoSold'] = data['MoSold'].astype(str)\n",
    "data['YearBuilt'] = data['YearBuilt'].astype(str)\n",
    "data['YearRemodAdd'] = data['YearRemodAdd'].astype(str)\n",
    "data['YrSold'] = data['YrSold'].astype(str)\n",
    "# data.drop(['YearBuilt', 'YearRemodAdd', 'YrSold'], axis=1, inplace=True)\n",
    "\n",
    "\n",
    "\n",
    "# 组合售卖的年份和月份作为特征\n",
    "ysold_msold = data['YrSold'] + \"-\"+ data['MoSold']\n",
    "data['ysold_msold'] = ysold_msold"
   ]
  },
  {
   "cell_type": "code",
   "execution_count": 36,
   "metadata": {
    "collapsed": false
   },
   "outputs": [
    {
     "data": {
      "text/plain": [
       "0    2008-2\n",
       "1    2007-5\n",
       "2    2008-9\n",
       "dtype: object"
      ]
     },
     "execution_count": 36,
     "metadata": {},
     "output_type": "execute_result"
    }
   ],
   "source": [
    "data['MoSold'] = data['MoSold'].astype(str)\n",
    "data['YearBuilt'] = data['YearBuilt'].astype(str)\n",
    "data['YearRemodAdd'] = data['YearRemodAdd'].astype(str)\n",
    "data['YrSold'] = data['YrSold'].astype(str)\n",
    "ysold_msold = data['YrSold'] + \"-\"+ data['MoSold']\n",
    "ysold_msold.head(3)"
   ]
  },
  {
   "cell_type": "code",
   "execution_count": 42,
   "metadata": {
    "collapsed": false
   },
   "outputs": [
    {
     "name": "stdout",
     "output_type": "stream",
     "text": [
      "36.5479452055\n"
     ]
    },
    {
     "data": {
      "text/plain": [
       "0      -31.547945\n",
       "1       -5.547945\n",
       "2      -29.547945\n",
       "3       54.452055\n",
       "4      -28.547945\n",
       "5      -20.547945\n",
       "6      -33.547945\n",
       "7       -0.547945\n",
       "8       40.452055\n",
       "9       32.452055\n",
       "10       6.452055\n",
       "11     -35.547945\n",
       "12       9.452055\n",
       "13     -35.547945\n",
       "14      11.452055\n",
       "15      41.452055\n",
       "16       3.452055\n",
       "17       2.452055\n",
       "18     -32.547945\n",
       "19      14.452055\n",
       "20     -35.547945\n",
       "21      40.452055\n",
       "22     -30.547945\n",
       "23      -5.547945\n",
       "24       5.452055\n",
       "25     -34.547945\n",
       "26      22.452055\n",
       "27     -33.547945\n",
       "28      12.452055\n",
       "29      44.452055\n",
       "          ...    \n",
       "1430   -35.547945\n",
       "1431    -3.547945\n",
       "1432    43.452055\n",
       "1433   -28.547945\n",
       "1434    -7.547945\n",
       "1435     9.452055\n",
       "1436    -0.547945\n",
       "1437   -36.547945\n",
       "1438    16.452055\n",
       "1439    -8.547945\n",
       "1440    49.452055\n",
       "1441   -32.547945\n",
       "1442   -35.547945\n",
       "1443    56.452055\n",
       "1444   -33.547945\n",
       "1445     4.452055\n",
       "1446    11.452055\n",
       "1447   -24.547945\n",
       "1448    60.452055\n",
       "1449    -0.547945\n",
       "1450    -1.547945\n",
       "1451   -35.547945\n",
       "1452   -35.547945\n",
       "1453   -36.547945\n",
       "1454   -31.547945\n",
       "1455   -28.547945\n",
       "1456    -4.547945\n",
       "1457    32.452055\n",
       "1458    23.452055\n",
       "1459     6.452055\n",
       "dtype: float64"
      ]
     },
     "execution_count": 42,
     "metadata": {},
     "output_type": "execute_result"
    }
   ],
   "source": [
    "mean_gap = Built_Sold_Gap - Built_Sold_Gap.mean()\n",
    "data['mean_gap'] = mean_gap\n",
    "print Built_Sold_Gap.mean()\n",
    "mean_gap"
   ]
  },
  {
   "cell_type": "code",
   "execution_count": 43,
   "metadata": {
    "collapsed": false
   },
   "outputs": [
    {
     "ename": "NameError",
     "evalue": "name 'Remod_Sold_Gap' is not defined",
     "output_type": "error",
     "traceback": [
      "\u001b[0;31m---------------------------------------------------------------------------\u001b[0m",
      "\u001b[0;31mNameError\u001b[0m                                 Traceback (most recent call last)",
      "\u001b[0;32m<ipython-input-43-d9cf4e6ca1b7>\u001b[0m in \u001b[0;36m<module>\u001b[0;34m()\u001b[0m\n\u001b[0;32m----> 1\u001b[0;31m \u001b[0mmean_gap2\u001b[0m \u001b[0;34m=\u001b[0m \u001b[0mRemod_Sold_Gap\u001b[0m \u001b[0;34m-\u001b[0m \u001b[0mRemod_Sold_Gap\u001b[0m\u001b[0;34m.\u001b[0m\u001b[0mmean\u001b[0m\u001b[0;34m(\u001b[0m\u001b[0;34m)\u001b[0m\u001b[0;34m\u001b[0m\u001b[0m\n\u001b[0m\u001b[1;32m      2\u001b[0m \u001b[0mdata\u001b[0m\u001b[0;34m[\u001b[0m\u001b[0;34m'mean_gap2'\u001b[0m\u001b[0;34m]\u001b[0m \u001b[0;34m=\u001b[0m \u001b[0mmean_gap2\u001b[0m\u001b[0;34m\u001b[0m\u001b[0m\n\u001b[1;32m      3\u001b[0m \u001b[0;32mprint\u001b[0m \u001b[0mmean_gap2\u001b[0m\u001b[0;34m\u001b[0m\u001b[0m\n",
      "\u001b[0;31mNameError\u001b[0m: name 'Remod_Sold_Gap' is not defined"
     ]
    }
   ],
   "source": [
    "mean_gap2 = Remod_Sold_Gap - Remod_Sold_Gap.mean()\n",
    "data['mean_gap2'] = mean_gap2\n",
    "print mean_gap2"
   ]
  }
 ],
 "metadata": {
  "anaconda-cloud": {},
  "kernelspec": {
   "display_name": "Python [conda root]",
   "language": "python",
   "name": "conda-root-py"
  },
  "language_info": {
   "codemirror_mode": {
    "name": "ipython",
    "version": 2
   },
   "file_extension": ".py",
   "mimetype": "text/x-python",
   "name": "python",
   "nbconvert_exporter": "python",
   "pygments_lexer": "ipython2",
   "version": "2.7.12"
  }
 },
 "nbformat": 4,
 "nbformat_minor": 1
}
